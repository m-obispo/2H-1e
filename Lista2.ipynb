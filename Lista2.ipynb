{
 "cells": [
  {
   "cell_type": "markdown",
   "metadata": {},
   "source": [
    "# Lista 2 - Física Atômica e Molecular A"
   ]
  },
  {
   "cell_type": "markdown",
   "metadata": {},
   "source": [
    "## Preliminares\n",
    "\n",
    "### Coordenadas Esferoidais Prolatas\n",
    "\n",
    "Conforme visto em aulas anteriores, foram introduzidas as coordenadas esferoidais prolatas\n",
    "\n",
    "\\begin{equation}\n",
    "\\begin{cases}\n",
    "    x = a \\sinh(\\mu)\\sin(\\nu)\\cos(\\varphi)\\\\\n",
    "    y = a \\sinh(\\mu)\\sin(\\nu)\\sin(\\varphi)\\\\\n",
    "    z = a \\cosh(\\mu)\\cos(\\nu)\n",
    "\\end{cases}\n",
    "\\end{equation}\n",
    "\n",
    "\n",
    "Onde $a \\in \\mathbb{R}$, $\\mu \\in [0,\\infty)$, $\\nu \\in [0, \\pi]$ e $\\varphi \\in [0,2\\pi]$. Por conveniênica, introduz-se as substituições:\n",
    "\n",
    "\\begin{equation}\n",
    "\\begin{cases}\n",
    "    \\xi = \\cosh(\\mu)\\\\\n",
    "    \\eta = a \\cos(\\nu)\\\\\n",
    "    R = 2a     \n",
    "\\end{cases}\n",
    "\\end{equation}\n",
    "\n",
    "No caso, $\\xi \\in [1,\\infty)$ e $\\eta \\in [-1, 1]$. Neste sistema de coordenadas, um elemento de volume infinitesimal é escrito como:\n",
    "\n",
    "$$dV = \\dfrac{R^3}{8}(\\xi^2 - \\eta^2) d\\xi d\\eta d\\varphi$$\n",
    "\n",
    "De aulas anteriores, sabemos que:\n",
    "\n",
    "$$\n",
    "    \\xi = \\dfrac{r_1 + r_2}{R}\n",
    "$$\n",
    "\n",
    "$$\n",
    "    \\eta = \\dfrac{r_1 - r_2}{R}\n",
    "$$"
   ]
  },
  {
   "cell_type": "markdown",
   "metadata": {},
   "source": [
    "## Questão 5\n",
    "\n",
    "Para fazer os cálculos e os gráficos, será utilizada a linguagem Python (versão 3.8.2) com as bibliotecas a seguir:"
   ]
  },
  {
   "cell_type": "code",
   "execution_count": 76,
   "metadata": {},
   "outputs": [],
   "source": [
    "import numpy as np\n",
    "import sympy as sym\n",
    "import matplotlib.pyplot as plt"
   ]
  },
  {
   "cell_type": "markdown",
   "metadata": {},
   "source": [
    "Em seguida, definem-se algumas funções de conversão de unidades (mais especificamente, de Hartree para kcal/mol e eV."
   ]
  },
  {
   "cell_type": "code",
   "execution_count": 77,
   "metadata": {},
   "outputs": [],
   "source": [
    "#Conversões de unidades\n",
    "def kcalMol(x): \n",
    "    return x/0.0015\n",
    "\n",
    "def eV(x):\n",
    "    return kcalMol(x)/23.0605\n",
    "\n",
    "def angs(x):\n",
    "    return x*0.5292"
   ]
  },
  {
   "cell_type": "markdown",
   "metadata": {},
   "source": [
    "Em seguida, declara-se a energia exata do estado fundamental do átomo de hidrogênio (em Ha):"
   ]
  },
  {
   "cell_type": "code",
   "execution_count": 78,
   "metadata": {},
   "outputs": [],
   "source": [
    "#Energia exata do estado fundamental do átomo de H\n",
    "E_H = 0.47"
   ]
  },
  {
   "cell_type": "markdown",
   "metadata": {},
   "source": [
    "Realiza-se, então, a declaração das variáveis e expresões simbólicas por meio da biblioteca `sympy`:"
   ]
  },
  {
   "cell_type": "code",
   "execution_count": 79,
   "metadata": {},
   "outputs": [
    {
     "name": "stdout",
     "output_type": "stream",
     "text": [
      "<class 'sympy.core.mul.Mul'> <class 'sympy.core.add.Add'>\n"
     ]
    }
   ],
   "source": [
    "R = sym.Symbol('R')\n",
    "\n",
    "e11 = (1-sym.exp(-2*R)*(1+R))/R\n",
    "e12 = sym.exp(-1*R)*(1+R)\n",
    "s12 = sym.exp(-1*R)*(1+R+R*R/3)\n",
    "\n",
    "expr_E1 = E_H + 1/R - (e11-e12)/(1-s12)\n",
    "expr_E2 = E_H + 1/R - (e11+e12)/(1+s12)\n",
    "\n",
    "print(type(e11), type(expr_E1))"
   ]
  },
  {
   "cell_type": "code",
   "execution_count": 80,
   "metadata": {},
   "outputs": [
    {
     "data": {
      "text/latex": [
       "$\\displaystyle \\frac{- \\left(R + 1\\right) e^{- 2 R} + 1}{R}$"
      ],
      "text/plain": [
       "(-(R + 1)*exp(-2*R) + 1)/R"
      ]
     },
     "execution_count": 80,
     "metadata": {},
     "output_type": "execute_result"
    }
   ],
   "source": [
    "e11"
   ]
  },
  {
   "cell_type": "code",
   "execution_count": 81,
   "metadata": {},
   "outputs": [
    {
     "data": {
      "text/latex": [
       "$\\displaystyle \\left(R + 1\\right) e^{- R}$"
      ],
      "text/plain": [
       "(R + 1)*exp(-R)"
      ]
     },
     "execution_count": 81,
     "metadata": {},
     "output_type": "execute_result"
    }
   ],
   "source": [
    "e12"
   ]
  },
  {
   "cell_type": "code",
   "execution_count": 82,
   "metadata": {},
   "outputs": [
    {
     "data": {
      "text/latex": [
       "$\\displaystyle \\left(\\frac{R^{2}}{3} + R + 1\\right) e^{- R}$"
      ],
      "text/plain": [
       "(R**2/3 + R + 1)*exp(-R)"
      ]
     },
     "execution_count": 82,
     "metadata": {},
     "output_type": "execute_result"
    }
   ],
   "source": [
    "s12"
   ]
  },
  {
   "cell_type": "markdown",
   "metadata": {},
   "source": [
    "A partir das expressões declaradas acima, pode-se definir as funções que atuarão em arrays do `numpy` para gerar as CEPs por meio do comando `lambdify()`."
   ]
  },
  {
   "cell_type": "code",
   "execution_count": 83,
   "metadata": {},
   "outputs": [],
   "source": [
    "E1 = sym.lambdify(R, expr_E1, 'numpy')\n",
    "E2 = sym.lambdify(R, expr_E2, 'numpy')"
   ]
  },
  {
   "cell_type": "code",
   "execution_count": 84,
   "metadata": {},
   "outputs": [
    {
     "name": "stdout",
     "output_type": "stream",
     "text": [
      "<class 'function'> <class 'function'>\n"
     ]
    }
   ],
   "source": [
    "print(type(E1), type(E2))"
   ]
  },
  {
   "cell_type": "markdown",
   "metadata": {},
   "source": [
    "Declara-se, então, os arrays com os valores de R para os quais deseja-se calcular a SEP"
   ]
  },
  {
   "cell_type": "code",
   "execution_count": 85,
   "metadata": {},
   "outputs": [
    {
     "data": {
      "text/plain": [
       "array([0.5, 0.6, 0.7, 0.8, 0.9, 1. , 1.1, 1.2, 1.3, 1.4, 1.5, 1.6, 1.7,\n",
       "       1.8, 1.9, 2. , 2.1, 2.2, 2.3, 2.4, 2.5, 2.6, 2.7, 2.8, 2.9, 3. ,\n",
       "       3.1, 3.2, 3.3, 3.4, 3.5, 3.6, 3.7, 3.8, 3.9, 4. , 4.1, 4.2, 4.3,\n",
       "       4.4, 4.5, 4.6, 4.7, 4.8, 4.9, 5. , 5.1, 5.2, 5.3, 5.4, 5.5, 5.6,\n",
       "       5.7, 5.8, 5.9, 6. , 6.1, 6.2, 6.3, 6.4, 6.5, 6.6, 6.7, 6.8, 6.9,\n",
       "       7. , 7.1, 7.2, 7.3, 7.4, 7.5, 7.6, 7.7, 7.8, 7.9, 8. , 8.1, 8.2,\n",
       "       8.3, 8.4, 8.5, 8.6, 8.7, 8.8, 8.9, 9. , 9.1, 9.2, 9.3, 9.4, 9.5,\n",
       "       9.6, 9.7, 9.8, 9.9])"
      ]
     },
     "execution_count": 85,
     "metadata": {},
     "output_type": "execute_result"
    }
   ],
   "source": [
    "vec_R = np.arange(0.5, 10, 0.1)\n",
    "vec_R"
   ]
  },
  {
   "cell_type": "markdown",
   "metadata": {},
   "source": [
    "Para realizar o cálculo dos pontos, basta fazer:"
   ]
  },
  {
   "cell_type": "code",
   "execution_count": 86,
   "metadata": {},
   "outputs": [],
   "source": [
    "cepE1 = E1(vec_R) - E2(100)\n",
    "cepE2 = E2(vec_R) - E2(100)"
   ]
  },
  {
   "cell_type": "code",
   "execution_count": 87,
   "metadata": {},
   "outputs": [
    {
     "data": {
      "text/plain": [
       "array([2.33873890e+00, 1.92747103e+00, 1.62271729e+00, 1.38696027e+00,\n",
       "       1.19889118e+00, 1.04540102e+00, 9.17918484e-01, 8.10564503e-01,\n",
       "       7.19148759e-01, 6.40589526e-01, 5.72560844e-01, 5.13268637e-01,\n",
       "       4.61303421e-01, 4.15540342e-01, 3.75069468e-01, 3.39146034e-01,\n",
       "       3.07154157e-01, 2.78579901e-01, 2.52990947e-01, 2.30021017e-01,\n",
       "       2.09357787e-01, 1.90733390e-01, 1.73916883e-01, 1.58708205e-01,\n",
       "       1.44933287e-01, 1.32440070e-01, 1.21095233e-01, 1.10781483e-01,\n",
       "       1.01395308e-01, 9.28450839e-02, 8.50494931e-02, 7.79361802e-02,\n",
       "       7.14406114e-02, 6.55051016e-02, 6.00779800e-02, 5.51128729e-02,\n",
       "       5.05680843e-02, 4.64060596e-02, 4.25929198e-02, 3.90980548e-02,\n",
       "       3.58937689e-02, 3.29549696e-02, 3.02588940e-02, 2.77848685e-02,\n",
       "       2.55140958e-02, 2.34294671e-02, 2.15153951e-02, 1.97576658e-02,\n",
       "       1.81433065e-02, 1.66604682e-02, 1.52983198e-02, 1.40469547e-02,\n",
       "       1.28973054e-02, 1.18410679e-02, 1.08706335e-02, 9.97902674e-03,\n",
       "       9.15985024e-03, 8.40723411e-03, 7.71579056e-03, 7.08057262e-03,\n",
       "       6.49703674e-03, 5.96100874e-03, 5.46865290e-03, 5.01644377e-03,\n",
       "       4.60114053e-03, 4.21976351e-03, 3.86957281e-03, 3.54804877e-03,\n",
       "       3.25287402e-03, 2.98191718e-03, 2.73321778e-03, 2.50497254e-03,\n",
       "       2.29552276e-03, 2.10334270e-03, 1.92702899e-03, 1.76529086e-03,\n",
       "       1.61694112e-03, 1.48088794e-03, 1.35612726e-03, 1.24173579e-03,\n",
       "       1.13686460e-03, 1.04073318e-03, 9.52624019e-04, 8.71877583e-04,\n",
       "       7.97887697e-04, 7.30097289e-04, 6.67994482e-04, 6.11108979e-04,\n",
       "       5.59008745e-04, 5.11296942e-04, 4.67609115e-04, 4.27610592e-04,\n",
       "       3.90994091e-04, 3.57477521e-04, 3.26801949e-04])"
      ]
     },
     "execution_count": 87,
     "metadata": {},
     "output_type": "execute_result"
    }
   ],
   "source": [
    "cepE1"
   ]
  },
  {
   "cell_type": "code",
   "execution_count": 88,
   "metadata": {},
   "outputs": [
    {
     "data": {
      "text/plain": [
       "array([ 1.07865091e+00,  7.70771540e-01,  5.59156444e-01,  4.07574448e-01,\n",
       "        2.95797459e-01,  2.11633741e-01,  1.47297109e-01,  9.75852187e-02,\n",
       "        5.88944631e-02,  2.86542983e-02,  4.98600843e-03, -1.35117634e-02,\n",
       "       -2.79025704e-02, -3.90056990e-02, -4.74604803e-02, -5.37714953e-02,\n",
       "       -5.83409703e-02, -6.14923872e-02, -6.34879519e-02, -6.45416906e-02,\n",
       "       -6.48293856e-02, -6.44961954e-02, -6.36625543e-02, -6.24287825e-02,\n",
       "       -6.08787177e-02, -5.90825987e-02, -5.70993718e-02, -5.49785492e-02,\n",
       "       -5.27617174e-02, -5.04837691e-02, -4.81739174e-02, -4.58565364e-02,\n",
       "       -4.35518621e-02, -4.12765815e-02, -3.90443317e-02, -3.68661240e-02,\n",
       "       -3.47507077e-02, -3.27048837e-02, -3.07337762e-02, -2.88410694e-02,\n",
       "       -2.70292134e-02, -2.52996061e-02, -2.36527516e-02, -2.20884004e-02,\n",
       "       -2.06056724e-02, -1.92031653e-02, -1.78790496e-02, -1.66311523e-02,\n",
       "       -1.54570299e-02, -1.43540322e-02, -1.33193575e-02, -1.23501006e-02,\n",
       "       -1.14432938e-02, -1.05959423e-02, -9.80505344e-03, -9.06766185e-03,\n",
       "       -8.38085018e-03, -7.74176588e-03, -7.14763477e-03, -6.59577177e-03,\n",
       "       -6.08358899e-03, -5.60860166e-03, -5.16843217e-03, -4.76081251e-03,\n",
       "       -4.38358524e-03, -4.03470345e-03, -3.71222961e-03, -3.41433371e-03,\n",
       "       -3.13929077e-03, -2.88547779e-03, -2.65137032e-03, -2.43553876e-03,\n",
       "       -2.23664442e-03, -2.05343548e-03, -1.88474285e-03, -1.72947596e-03,\n",
       "       -1.58661869e-03, -1.45522524e-03, -1.33441613e-03, -1.22337432e-03,\n",
       "       -1.12134141e-03, -1.02761402e-03, -9.41540294e-04, -8.62516565e-04,\n",
       "       -7.89984167e-04, -7.23426419e-04, -6.62365756e-04, -6.06361024e-04,\n",
       "       -5.55004924e-04, -5.07921609e-04, -4.64764425e-04, -4.25213789e-04,\n",
       "       -3.88975210e-04, -3.55777428e-04, -3.25370684e-04])"
      ]
     },
     "execution_count": 88,
     "metadata": {},
     "output_type": "execute_result"
    }
   ],
   "source": [
    "cepE2"
   ]
  },
  {
   "cell_type": "markdown",
   "metadata": {},
   "source": [
    "Por fim, realiza-se o plot utilizando o `matplotlib`:"
   ]
  },
  {
   "cell_type": "code",
   "execution_count": 89,
   "metadata": {},
   "outputs": [
    {
     "data": {
      "image/png": "[encoded data removed]",
      "text/plain": [
       "<Figure size 1200x800 with 1 Axes>"
      ]
     },
     "metadata": {
      "needs_background": "light"
     },
     "output_type": "display_data"
    }
   ],
   "source": [
    "#Cria o fundo, o título e o subtítulo\n",
    "plt.figure(figsize = (12, 8), dpi = 100)\n",
    "plt.suptitle('Método Variacional: Íon $H_2^+$', fontsize=24)\n",
    "plt.title('Curvas de Energia Potencial', fontsize=22)\n",
    "plt.grid()\n",
    "\n",
    "#Realiza o plot\n",
    "plt.plot(angs(vec_R), eV(cepE1), 'r-', label = '$E_1$ (não-ligado)') #E1 (não-ligado)\n",
    "plt.plot(angs(vec_R), eV(cepE2), 'b-', label = '$E_2$ (ligado)') #E2 (ligado)\n",
    "plt.plot(angs(vec_R), np.zeros(len(vec_R)), 'k--') #linha tracejada indicando o zero\n",
    "\n",
    "#Redefine os limites para os exios\n",
    "plt.xlim(0.25, 5.)\n",
    "plt.xticks(np.arange(0.25,5.1, 0.5), fontsize=18)\n",
    "plt.yticks(fontsize=18)\n",
    "\n",
    "#Rotula os eixos\n",
    "plt.xlabel('Distância internuclear($\\\\mathring{A}$)', fontsize=20)\n",
    "plt.ylabel('Energia (eV)', fontsize=20)\n",
    "\n",
    "#Cria a legenda e exibe o gráfico\n",
    "plt.legend(fontsize=18)\n",
    "plt.show()"
   ]
  },
  {
   "cell_type": "markdown",
   "metadata": {},
   "source": [
    "Nota-se que o estado ligado corresponde à energia $E_2$, ao passo que o estado não-ligado corresponde à energia $E_1$."
   ]
  },
  {
   "cell_type": "markdown",
   "metadata": {},
   "source": [
    "## Questão 6"
   ]
  },
  {
   "cell_type": "markdown",
   "metadata": {},
   "source": [
    "Para realizar o refinamento do gráfico ao redor de $R = R_e$, utilizaremos o seguinte array advindo da análise do gráfico acima:"
   ]
  },
  {
   "cell_type": "code",
   "execution_count": 90,
   "metadata": {},
   "outputs": [
    {
     "data": {
      "text/plain": [
       "array([1.5  , 1.501, 1.502, ..., 2.997, 2.998, 2.999])"
      ]
     },
     "execution_count": 90,
     "metadata": {},
     "output_type": "execute_result"
    }
   ],
   "source": [
    "vec_Re = np.arange(1.5, 3.0, 0.001)\n",
    "vec_Re"
   ]
  },
  {
   "cell_type": "markdown",
   "metadata": {},
   "source": [
    "Calcula-se, então, a função $E_2(R)$ neste intervalo:"
   ]
  },
  {
   "cell_type": "code",
   "execution_count": 91,
   "metadata": {},
   "outputs": [
    {
     "data": {
      "text/plain": [
       "array([ 0.00498601,  0.00477745,  0.00456941, ..., -0.05913947,\n",
       "       -0.05912053, -0.05910158])"
      ]
     },
     "execution_count": 91,
     "metadata": {},
     "output_type": "execute_result"
    }
   ],
   "source": [
    "cepE2_e = E2(vec_Re) - E2(100)\n",
    "cepE2_e"
   ]
  },
  {
   "cell_type": "markdown",
   "metadata": {},
   "source": [
    "Para descobrir $D_e$, isto é, o mínimo do array `cepE2_e`, podemos fazer:"
   ]
  },
  {
   "cell_type": "code",
   "execution_count": 105,
   "metadata": {},
   "outputs": [
    {
     "name": "stdout",
     "output_type": "stream",
     "text": [
      "De = -1.874 A\n"
     ]
    }
   ],
   "source": [
    "De = cepE2_e.min()\n",
    "print('De = {:.3f} eV'.format(eV(De)))"
   ]
  },
  {
   "cell_type": "markdown",
   "metadata": {},
   "source": [
    "E o valor correspondente de $R_e$ será:"
   ]
  },
  {
   "cell_type": "code",
   "execution_count": 107,
   "metadata": {},
   "outputs": [
    {
     "name": "stdout",
     "output_type": "stream",
     "text": [
      "Re = 1.319 A\n"
     ]
    }
   ],
   "source": [
    "Re = vec_Re[np.where(cepE2_e== cepE2_e.min())[0][0]]\n",
    "print('Re = {:.3f} A'.format(angs(Re)))"
   ]
  },
  {
   "cell_type": "markdown",
   "metadata": {},
   "source": [
    "## Questão 7"
   ]
  },
  {
   "cell_type": "markdown",
   "metadata": {},
   "source": [
    "Podemos derivar simbolicamente a expressão de E2 por meio do `sym.diff()`:"
   ]
  },
  {
   "cell_type": "code",
   "execution_count": 108,
   "metadata": {},
   "outputs": [
    {
     "data": {
      "text/latex": [
       "$\\displaystyle \\frac{\\left(- 3 R^{2} \\left(R + 1\\right) \\left(R \\left(R + 1\\right) e^{R} - R + e^{2 R} - 1\\right) - \\left(R^{2} + 3 R + 3 e^{R} + 3\\right)^{2} e^{R} + 3 \\left(R^{2} + 3 R + 3 e^{R} + 3\\right) \\left(R^{3} e^{R} - R \\left(2 R + 1\\right) - R + e^{2 R} - 1\\right)\\right) e^{- R}}{R^{2} \\left(R^{2} + 3 R + 3 e^{R} + 3\\right)^{2}}$"
      ],
      "text/plain": [
       "(-3*R**2*(R + 1)*(R*(R + 1)*exp(R) - R + exp(2*R) - 1) - (R**2 + 3*R + 3*exp(R) + 3)**2*exp(R) + 3*(R**2 + 3*R + 3*exp(R) + 3)*(R**3*exp(R) - R*(2*R + 1) - R + exp(2*R) - 1))*exp(-R)/(R**2*(R**2 + 3*R + 3*exp(R) + 3)**2)"
      ]
     },
     "execution_count": 108,
     "metadata": {},
     "output_type": "execute_result"
    }
   ],
   "source": [
    "expr_dE2 = sym.diff(expr_E2) #Derivada de E2\n",
    "expr_dE2.simplify() #simplifica a expressão"
   ]
  },
  {
   "cell_type": "markdown",
   "metadata": {},
   "source": [
    "Usando o `lambdify()` para podermos avaliar a expressão em um array do `numpy`:"
   ]
  },
  {
   "cell_type": "code",
   "execution_count": 95,
   "metadata": {},
   "outputs": [
    {
     "data": {
      "text/plain": [
       "function"
      ]
     },
     "execution_count": 95,
     "metadata": {},
     "output_type": "execute_result"
    }
   ],
   "source": [
    "dE2 = sym.lambdify(R, expr_dE2, 'numpy')\n",
    "type(dE2)"
   ]
  },
  {
   "cell_type": "markdown",
   "metadata": {},
   "source": [
    "Pode-se derivar e igualar a zero para obter o $R_e$ e o $D_e$ usando a seguinte repetição:"
   ]
  },
  {
   "cell_type": "code",
   "execution_count": 109,
   "metadata": {},
   "outputs": [
    {
     "name": "stdout",
     "output_type": "stream",
     "text": [
      "Re = 1.319 A; De = -1.874 eV\n"
     ]
    }
   ],
   "source": [
    "for i in range(len(dE2(vec_Re))-1):\n",
    "    if dE2(vec_Re)[i]*dE2(vec_Re)[i+1] < 0: #Avalia quando a derivada muda de sinal (i.e. passa pelo zero)\n",
    "        Re = vec_Re[i]\n",
    "        De = E2(Re) - E2(100)\n",
    "        print('Re = {:.3f} A; De = {:.3f} eV'.format(angs(Re), eV(De)))"
   ]
  },
  {
   "cell_type": "code",
   "execution_count": null,
   "metadata": {},
   "outputs": [],
   "source": []
  }
 ],
 "metadata": {
  "kernelspec": {
   "display_name": "Python 3",
   "language": "python",
   "name": "python3"
  },
  "language_info": {
   "codemirror_mode": {
    "name": "ipython",
    "version": 3
   },
   "file_extension": ".py",
   "mimetype": "text/x-python",
   "name": "python",
   "nbconvert_exporter": "python",
   "pygments_lexer": "ipython3",
   "version": "3.8.2"
  }
 },
 "nbformat": 4,
 "nbformat_minor": 4
}
